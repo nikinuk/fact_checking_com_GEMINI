{
  "nbformat": 4,
  "nbformat_minor": 0,
  "metadata": {
    "colab": {
      "provenance": [],
      "authorship_tag": "ABX9TyNA7gR7RCUl6apSBHEAkX+b",
      "include_colab_link": true
    },
    "kernelspec": {
      "name": "python3",
      "display_name": "Python 3"
    },
    "language_info": {
      "name": "python"
    }
  },
  "cells": [
    {
      "cell_type": "markdown",
      "metadata": {
        "id": "view-in-github",
        "colab_type": "text"
      },
      "source": [
        "<a href=\"https://colab.research.google.com/github/nikinuk/fact_checking_com_GEMINI/blob/main/quick_fact_check.ipynb\" target=\"_parent\"><img src=\"https://colab.research.google.com/assets/colab-badge.svg\" alt=\"Open In Colab\"/></a>"
      ]
    },
    {
      "cell_type": "markdown",
      "source": [
        "Preparação do ambiente de execução. Única instalação necessária, não padrão do Colab é a própria SDK do GEMINI. Demais bibliotecas sao STD."
      ],
      "metadata": {
        "id": "HaO0L8bclVXI"
      }
    },
    {
      "cell_type": "code",
      "source": [
        "#Preparação do ambiente\n",
        "!pip install -q -U google-generativeai"
      ],
      "metadata": {
        "id": "xZZopFGwrT5E"
      },
      "execution_count": 1,
      "outputs": []
    },
    {
      "cell_type": "markdown",
      "source": [
        "Importação das bibliotecas utilizadas\n",
        "\n",
        "# ATENÇÂO\n",
        "\n",
        "Para rodar é necessário fornecer sua própria chave do API"
      ],
      "metadata": {
        "id": "VqIFxaoglzOu"
      }
    },
    {
      "cell_type": "code",
      "source": [
        "# Do \"Get started with the Gemini API: Python\"\n",
        "\n",
        "import pathlib\n",
        "import textwrap\n",
        "import google.generativeai as genai\n",
        "\n",
        "from IPython.display import display\n",
        "from IPython.display import Markdown\n",
        "\n",
        "def to_markdown(text):\n",
        "  text = text.replace('•', '  *')\n",
        "  return Markdown(textwrap.indent(text, '> ', predicate=lambda _: True))\n",
        "\n",
        "# Para usar a chave secreta do API guardada no COLAB,\n",
        "from google.colab import userdata\n",
        "\n",
        "GOOGLE_API_KEY=userdata.get('GOOGLE_API_KEY')\n",
        "#      ou\n",
        "#GOOGLE_API_KEY = \"COLE AQUI SUA CHAVE\"\n",
        "\n",
        "genai.configure(api_key=GOOGLE_API_KEY)\n",
        "\n",
        "#Inicialização do modelo\n",
        "model = genai.GenerativeModel('gemini-1.0-pro')\n",
        "\n",
        "# CONFIGURAÇÂO PARA BUSCA NA INTENET\n",
        "\n",
        "from googlesearch import search # Biblioteca não oficial para dusca no Google: https://pypi.org/project/googlesearch-python/\n",
        "import requests # Biblioteca para carregar páginas da internet: https://pypi.org/project/requests/\n",
        "from bs4 import BeautifulSoup # Biblioteca para manipular arquivos HTML e XML baixados da internet: https://beautiful-soup-4.readthedocs.io/en/latest/"
      ],
      "metadata": {
        "id": "ILbAVP8Kra-Z"
      },
      "execution_count": 2,
      "outputs": []
    },
    {
      "cell_type": "markdown",
      "source": [
        "Aqui trazemos algumas configurações importantes que podem impactar o resultado das buscas e da verificação de fatos.\n",
        "A lista DOMINIOS_DE_BUSCA limita os domínios considerados confiáveis para busca de notícias e informações. Importante ter variedade para melhorar as chances de verificações cruzadas bem sucedidas. Eu incluí aqui sites de jornalismo nacionais, principais agencias do governo (todos os três poderes) e também agencias de verificação de fatos bem conceituadas, para o caso de notícias já verificadas.\n",
        "Na versão atual, a ordem dos domínios não afetam os resultados da busca. Isso poderia ser modificado para priorizar agencias de checagem.\n",
        "\n",
        "A definição da quantidade de links (NUMERO_DE_DOMINIOS) a serem buscados e analizados existe por economia de tempo e recursos. Para assuntos mais delicados e controversos, quanto mais melhor, sempre que houver uma lista grande suficiente de hits de relevantes na busca.\n",
        "\n",
        "A definição da repetição de domínios (MAX_REPETIÇÂO) é para evitar que algum domínio domine o resultado de buscas. De pouco adianta comparar notícias de um mesmo portal, caso o portal tenha algum tipo de viés em seu editorial"
      ],
      "metadata": {
        "id": "BSSWiNg2no4f"
      }
    },
    {
      "cell_type": "code",
      "execution_count": 10,
      "metadata": {
        "id": "igQs2ANfjw4z"
      },
      "outputs": [],
      "source": [
        "# Definir os domínios de busca. Esta configuração é importante pois são as fontes que vão determinar\n",
        "# a qualidade da informação utilizada. É importante que as fontes sejam variadas para dar um equilíbrio\n",
        "# nos diferentes viéses, partindo-se do princpipio que não há jornalismo ou informação sem viés.\n",
        "# Entretanto, é importante evitar sites de jornalísmo com forte viés ideológico.\n",
        "\n",
        "NUMERO_DE_DOMINIOS = 5 # Numeros de dominios de busca para usar (quanto mais, melhor, porém mais demorado e com maior consumo de tokens)\n",
        "MAX_REPETICAO = 2 # Numero máximos de repetições aceitas de links em mesmo domínio. Pouco adianta comparar 5 notícias de um mesmo portal.\n",
        "\n",
        "# DOMÍNIOS DE BUSCA\n",
        "DOMINIOS_DE_BUSCA = [\n",
        "    \"https://exame.com/\",\n",
        "    \"https://www.cnnbrasil.com.br/\",\n",
        "    \"https://www.cartacapital.com.br/\",\n",
        "    \"https://www.poder360.com.br/\",\n",
        "    \"https://www.bbc.com/\",\n",
        "    \"https://g1.globo.com/\",\n",
        "    \"https://www.poder360.com.br/\", # Até aqui coloquei sites de notícias abertos\n",
        "    \"https://www.in.gov.br/\",\n",
        "    \"https://www12.senado.leg.br/\",\n",
        "    \"https://www.camara.leg.br/\",\n",
        "    \"https://www.gov.br\",\n",
        "    \"https://www.cnj.jus.br/\", # Até aqui inclui sites oficiais mais importantes do governo federal.\n",
        "    \"https://agenciabrasil.ebc.com.br/\",\n",
        "    \"https://noticias.uol.com.br/confere/\",\n",
        "    \"https://checamos.afp.com/\",\n",
        "    \"https://lupa.uol.com.br/\",\n",
        "    \"https://www.boatos.org/\",\n",
        "    \"https://projetocomprova.com.br/\",\n",
        "    \"https://www.e-farsas.com/\" # Até aqui incluí portais de verifcações de fatos profissionais, para caso a notícia já tenha sido verificada.\n",
        "]\n",
        "\n"
      ]
    },
    {
      "cell_type": "markdown",
      "source": [
        "Funções utilizadas, comentadas... perdoai minha falta de fluência em programação.\n",
        "Obrigado ao AI Studio por me ajudar com muitos dos trechos de código ;)\n"
      ],
      "metadata": {
        "id": "SvNSqtS8ptmd"
      }
    },
    {
      "cell_type": "code",
      "source": [
        "# Função busca de links relacionados ao critério de busca 'resultados'\n",
        "def listar_links(results, dominios=DOMINIOS_DE_BUSCA, n=NUMERO_DE_DOMINIOS):\n",
        "  \"\"\"\n",
        "  A Função executa busca no Google Search usando a variável 'resultados'\n",
        "  Busca restrita aos domínios = lista de dominios\n",
        "  n = numero de links a retornar, se 0 ele usa a quantidade de dominios listados\n",
        "  Retorna lista de links\n",
        "  \"\"\"\n",
        "  if n == 0:\n",
        "    n = len(dominios)\n",
        "  links = []\n",
        "  for result in results:\n",
        "    # Verificar contagem de dominio repetitivo para não ultrapassar limite estabelecido\n",
        "    if verify_domains_max(result, links):\n",
        "      links.append(result)\n",
        "      n = n - 1\n",
        "      if n == 0 :\n",
        "        break\n",
        "  return links\n",
        "\n",
        "# verifica a contagens de dominios já utilizados para evitar repetições\n",
        "def verify_domains_max(result, links):\n",
        "  \"\"\"\n",
        "  retorna TRUE ou FALSE se a quantidade de dominios passou do limite\n",
        "  \"\"\"\n",
        "  #identificar dominio\n",
        "  the_domain = \"new_domain\"\n",
        "  for domain in DOMINIOS_DE_BUSCA:\n",
        "    if domain in result:\n",
        "      the_domain = domain\n",
        "      break\n",
        "  # Contar quantas vezes dominio aparece em links\n",
        "  c = 0\n",
        "  for link in links:\n",
        "    if the_domain in link:\n",
        "      c = c + 1\n",
        "  # Verifica ontagem\n",
        "  if c >= MAX_REPETICAO:\n",
        "    return False\n",
        "  else:\n",
        "    return True\n",
        "\n",
        "# Usar Gemini para compilar textos\n",
        "def compilar_noticias(links, noticias):\n",
        "  \"\"\"\n",
        "  Le as notícias usando o Gemini e retorna JSON com titulo, conteudo e fonte\n",
        "  \"\"\"\n",
        "  for url in links:\n",
        "    print(\":Status: Lendo informação:\", url)\n",
        "    response = requests.get(url)\n",
        "    soup = BeautifulSoup(response.content, 'html.parser')\n",
        "    texto_da_publicacao = soup.find('div', class_='publicacao-texto')\n",
        "    try:\n",
        "      # Tente executar o comando\n",
        "      # Nos testes vi que muitos sites não tem título definido desta forma...\n",
        "      title = soup.title.string\n",
        "      print(\"   -> Notícia encontrada:\", title)\n",
        "    except Exception as error:\n",
        "      # Se ocorrer um erro, execute a ação alternativa\n",
        "      print(f\"  -> :ERRO Menor: Noticia sem titulo - deixar titulo como 'noticia'\")\n",
        "      title = \"Noticia\"\n",
        "    text_soup = soup.getText()\n",
        "    try:\n",
        "      gen_response = model.generate_content(\n",
        "          \"Transcrever o artigo principa em meio à sopa de letras e codigos:\" + text_soup,\n",
        "          generation_config=genai.types.GenerationConfig(\n",
        "            candidate_count=1,\n",
        "            temperature=0) # Temperatura zero pois a rede não deve criar, apenas transcrever\n",
        "          ).text\n",
        "      noticias.append({\"title\": title, \"news\": gen_response, \"source\": url})\n",
        "      print(\"   -> OK para '\", title, \"'\")\n",
        "    except Exception as error:\n",
        "      print(\"   -> ERRO: NOK para '\", title, \"'\")\n",
        "  return noticias\n",
        "\n",
        "# Define string de busca do google search para sites de noticias\n",
        "def news(fact):\n",
        "  \"\"\"\n",
        "  Busca as notícias e retorna query para busca de referencias\n",
        "  fact deve ser um link válido\n",
        "  \"\"\"\n",
        "  # inicializa notocias\n",
        "  news = []\n",
        "  # Buscar notícia\n",
        "  print(\"\\n:Status: Buscando notícia fornecida...\")\n",
        "  response = requests.get(fact)\n",
        "  soup = BeautifulSoup(response.content, 'html.parser')\n",
        "  texto_da_publicacao = soup.find('div', class_='publicacao-texto')\n",
        "  try:\n",
        "    # Tente executar o comando\n",
        "    # Nos testes vi que muitos sites não tem título definido desta forma...\n",
        "    title = soup.title.string\n",
        "    print(\"   -> Notícia encontrada:\", title)\n",
        "  except Exception as error:\n",
        "    # Se ocorrer um erro, execute a ação alternativa\n",
        "    print(f\"  -> :ERRO Menor: Noticia sem titulo - deixar titulo como 'noticia'\")\n",
        "    title = \"Noticia\"\n",
        "  text_soup = soup.getText()\n",
        "  # Ler notícia\n",
        "  print(\":Status: Lendo a notícia...\")\n",
        "  response = model.generate_content(\n",
        "      \"Transcrever a seguinte sopa de letrinhas no formato do artigo principal contido nela:\" + text_soup,\n",
        "      generation_config=genai.types.GenerationConfig(\n",
        "        candidate_count=1,\n",
        "        temperature=0)\n",
        "      ).text\n",
        "  news.append({\"title\": title, \"news\": response, \"source\": fact})\n",
        "  print(\"   -> OK\")\n",
        "  # Gemini cria query para buscar noticias\n",
        "  print(\":Status: Gerando palavras chave para busca...\")\n",
        "  palavras_chave = model.generate_content(\n",
        "      \"Criar um query com palavras-chave para buscar no google search mais notícias relacionadas a este mesmo assunto. Retorne apenas um query, sem nenhum comentário ou explicação. NOTÍCIA:\" + response,\n",
        "      generation_config=genai.types.GenerationConfig(\n",
        "        candidate_count=1,\n",
        "        temperature=0.3)\n",
        "      ).text\n",
        "  print(\"   -> Palavras-chave:\", palavras_chave)\n",
        "  return palavras_chave, news\n",
        "\n",
        "#Define string de busca para fatos relatados\n",
        "def fact(fact):\n",
        "  \"\"\"\n",
        "  Cria um query com base na descrição do fato\n",
        "  \"\"\"\n",
        "  print(\"\\n:Status: Criando query para '\" + fact +\"' ...\")\n",
        "  palavras_chave = model.generate_content(\n",
        "      \"Criar um query com palavras-chave para buscar no google search notícias relacionadas a este assunto. Retorne apenas um query, sem nenhum comentário ou explicação. ASSUNTO:\" + fact,\n",
        "      generation_config=genai.types.GenerationConfig(\n",
        "        candidate_count=1,\n",
        "        temperature=0.3)\n",
        "      ).text\n",
        "  print(\"   -> Palavras-chave:\", palavras_chave)\n",
        "  return palavras_chave, []\n",
        "\n",
        "\n",
        "# Progrma principal\n",
        "def main(fact_2_check):\n",
        "  if fact_2_check[0:4] == \"http\":\n",
        "    query, noticias = news(fact_2_check)\n",
        "    fact_2_check = noticias[0]['title']\n",
        "  else:\n",
        "    query, noticias = fact(fact_2_check)\n",
        "\n",
        "  # Busca de noticias\n",
        "  results = search(query, domains=DOMINIOS_DE_BUSCA, num=250)\n",
        "  links = listar_links(results)\n",
        "\n",
        "  # ACionamento do GEMINI para ler e compilar as notícias\n",
        "  print(\"   -> Busca será feita em \" + str(len(links)) + \" domínios\\n\")\n",
        "  noticias = compilar_noticias(links, noticias)\n",
        "\n",
        "  # Com todas as notícias compiladas na lista notícias, fazer a comparação final\n",
        "  print(\"\\n:Status: Comparando fatos\")\n",
        "  prompt = \"Baseado nos diferentes textos do campo 'news' e 'title' dos artigos da lista a seguir, você pode opinar sobre se fatos '\" + fact_2_check + \"' são ou não verdadeiros? Verifique se há consistência entre estes fatos e os damais textos 'news' fornecidos para formar sua opinião. Por favor justificar sua resposta e citar as fontes sempre que possível. Lista: \" + str(noticias)\n",
        "  gen_response = model.generate_content(\n",
        "        prompt,\n",
        "        generation_config=genai.types.GenerationConfig(\n",
        "          candidate_count=1,\n",
        "          temperature=1.0)\n",
        "        ).text\n",
        "  return gen_response"
      ],
      "metadata": {
        "id": "gIvDuLOW3vWX"
      },
      "execution_count": 15,
      "outputs": []
    },
    {
      "cell_type": "markdown",
      "source": [
        "# AQUI EFETIVAMENTE RODAMOS A COISA TODA\n",
        "\n",
        "Um \"input\" básico vai solicitar que se descreva um fato ou se cole um URL de notícia. Atenção que não há filtros aqui. Ele vai identificar URLs que iniciem em HTTP... se não roda como se fosse um fato descrito.\n",
        "\n",
        "A lógica é a seguinte.\n",
        "\n",
        "A função main() recebe o input e retorna a resolução final. Mas muita coisa acontece no meio do caminho:\n",
        "\n",
        "Se o fato vier descrito por texto (não começa com \"http\") ele vai chamar a função fact() que usar o GEMINI para transformar a descrição do fato em uma query para o google, retornando esta query como texto.\n",
        "\n",
        "Se o que entrar no input for um link (começando com \"http\") ele chama a função news() que baixa a notícia da internet (sem restrição de domínio, ainda) e utilisa o GEMINI para decifrar o emaranhado de html, css, scripts e tudo mais para encontrar o título e o texto da notícia. Feito isso, faz mais uma chamada ao GEMINI para transformar a notícia em uma query para busca de notícias similares no Google, retornando esta query.\n",
        "\n",
        "À partir de agora o fluxo se unifica novamente. Com o query em mãos o programa faz uma busca no google search seguindo os critérios definidos anteriormente (domínios a verificar, número de domínios a retornar, e máximo de links por domínio). Com a lista de links em mãos o programa baixa cada um dos links e chama o GEMINI diversas vezes para identificar o texto. Assim vai criando um JSON com o título, texto e fonte de cada notícia.\n",
        "\n",
        "Finalizada a consolidação de todas as notícias, mais uma chamada é feita, agora passando todo o JSON com a lista de notícias para que sejam comparadas.\n",
        "\n",
        "Ao final, tem um pouco de prompt engineering para se conseguir as diversas informações, e principalmente um RAG \"artesanal\". Como o mecanísmo de busca do google search já tem dentro de si buscas em bases vetoriais e bases de conhecimento tipo graph (knowlegde graphs), não tivemos que nos demorar em utilizar estas técnias. A preparação dos dados para o RAG que se faz ao final foi feita com chamadas específicas, como se fossem vários agentes trabalhando juntos. Note que cada chamada tem sua engenharia de prompt e ajuste da temperatura para dar mais \"eloquencia\" ou exatidão ao meodelo (conforme tarefa).\n",
        "\n",
        "Rode a vontade (com a sua chave de API) e veja que o processo é bem \"verborrágico\" dandos todos os detalhes das operações que vão acontecendo."
      ],
      "metadata": {
        "id": "CV6iWM8HqMEN"
      }
    },
    {
      "cell_type": "code",
      "source": [
        "# ----------------------------------------------------------------------------\n",
        "# AQUI EFETIVAMENTE RODAMOS O PROGRAMA\n",
        "#-----------------------------------------------------------------------------\n",
        "fact_2_check = input(\"\\nCole a URL da notícia a ser verificada ou escreva sobre o fato:\\n\" )\n",
        "result = main(fact_2_check)\n",
        "to_markdown(result)\n"
      ],
      "metadata": {
        "colab": {
          "base_uri": "https://localhost:8080/",
          "height": 774
        },
        "id": "MpvI66Jo8_BO",
        "outputId": "0ac3a8ac-bb10-49a2-a225-75c6abad887b"
      },
      "execution_count": 13,
      "outputs": [
        {
          "output_type": "stream",
          "name": "stdout",
          "text": [
            "\n",
            "Cole a URL da notícia a ser verificada ou escreva sobre o fato:\n",
            "Policia Rodoviária Federal está bloqueando caminhões com doações para o Rio Grande do Sul\n",
            "\n",
            ":Status: Criando query para 'Policia Rodoviária Federal está bloqueando caminhões com doações para o Rio Grande do Sul' ...\n",
            "   -> Palavras-chave: \"Polícia Rodoviária Federal bloqueia caminhões com doações para o Rio Grande do Sul\"\n",
            "   -> Busca será feita em 5 domínios\n",
            "\n",
            ":Status: Lendo informação: https://noticias.uol.com.br/confere/ultimas-noticias/2024/05/09/antt-caminhao-multa-sbt-rs.htm\n",
            "   -> Notícia encontrada: O que se sabe sobre caminhões multados com doações para o RS\n",
            "   -> OK para ' O que se sabe sobre caminhões multados com doações para o RS '\n",
            ":Status: Lendo informação: https://lupa.uol.com.br/jornalismo/2024/05/08/o-que-se-sabe-sobre-multas-e-restricoes-a-caminhoes-com-doacoes-para-o-rs\n",
            "   -> Notícia encontrada: Lupa\n",
            "   -> OK para ' Lupa '\n",
            ":Status: Lendo informação: https://www.gov.br/prf/pt-br/noticias/nacionais/prf-alerta-para-viagens-desnecessarias-a-porto-alegre-1\n",
            "   -> Notícia encontrada: PRF alerta para viagens desnecessárias a Porto Alegre — Polícia Rodoviária Federal\n",
            "   -> OK para ' PRF alerta para viagens desnecessárias a Porto Alegre — Polícia Rodoviária Federal '\n",
            ":Status: Lendo informação: https://www.gov.br/prf/pt-br/noticias/estaduais/parana/2024/maio/prf-pm-e-defesa-civil-escoltam-quase-200-toneladas-de-suprimentos-para-as-vitimas-das-enchentes-no-rs\n",
            "   -> Notícia encontrada: PRF, PM, Bombeiros e Defesa Civil escoltam quase 200 toneladas de suprimentos para as vítimas das enchentes no RS — Polícia Rodoviária Federal\n",
            "   -> OK para ' PRF, PM, Bombeiros e Defesa Civil escoltam quase 200 toneladas de suprimentos para as vítimas das enchentes no RS — Polícia Rodoviária Federal '\n",
            ":Status: Lendo informação: https://g1.globo.com/pr/parana/noticia/2024/05/08/parana-envia-mais-37-bombeiros-para-auxiliar-vitimas-das-chuvas-no-rio-grande-do-sul.ghtml\n",
            "   -> Notícia encontrada: Paraná envia mais 37 bombeiros para auxiliar vítimas das chuvas no Rio Grande do Sul | Paraná | G1\n",
            "   -> OK para ' Paraná envia mais 37 bombeiros para auxiliar vítimas das chuvas no Rio Grande do Sul | Paraná | G1 '\n",
            "\n",
            ":Status: Comparando fatos\n"
          ]
        },
        {
          "output_type": "execute_result",
          "data": {
            "text/plain": [
              "<IPython.core.display.Markdown object>"
            ],
            "text/markdown": "> Com base nos textos disponíveis, **não há provas para apoiar as alegações** de que a Polícia Rodoviária Federal (PRF) esteja bloqueando caminhões com doações para o Rio Grande do Sul.\n> \n> **Razões:**\n> \n> * **Nenhum dos artigos mencionados relata bloqueios ou multas a caminhões transportando doações ao Rio Grande do Sul.**\n> * Um artigo da UOL afirma que as multas foram aplicadas devido ao excesso de peso, não à falta de notas fiscais.\n> * Outro artigo da Polícia Rodoviária Federal enfatiza a importância dos caminhões de doação e suprimentos para a região do Rio Grande do Sul.\n> * Um terceiro artigo informa que a PRF está escoltando uma força-tarefa com 190 toneladas de suprimentos para as vítimas das enchentes.\n> \n> Portanto, os textos fornecidos não corroboram a afirmação de que a PRF está bloqueando caminhões com doações para o Rio Grande do Sul.\n> \n> **Fontes:**\n> \n> * https://noticias.uol.com.br/confere/ultimas-noticias/2024/05/09/antt-caminhao-multa-sbt-rs.htm\n> * https://www.gov.br/prf/pt-br/noticias/nacionais/prf-alerta-para-viagens-desnecessarias-a-porto-alegre-1\n> * https://www.gov.br/prf/pt-br/noticias/estaduais/parana/2024/maio/prf-pm-e-defesa-civil-escoltam-quase-200-toneladas-de-suprimentos-para-as-vitimas-das-enchentes-no-rs"
          },
          "metadata": {},
          "execution_count": 13
        }
      ]
    },
    {
      "cell_type": "code",
      "source": [
        "fact_2_check = input(\"\\nCole a URL da notícia a ser verificada ou escreva sobre o fato:\\n\" )\n",
        "result = main(fact_2_check)\n",
        "to_markdown(result)"
      ],
      "metadata": {
        "colab": {
          "base_uri": "https://localhost:8080/",
          "height": 1000
        },
        "id": "kkurnjHQidKA",
        "outputId": "ae3a9e52-1d89-4a05-87f5-5a0e5c7b638f"
      },
      "execution_count": 16,
      "outputs": [
        {
          "output_type": "stream",
          "name": "stdout",
          "text": [
            "\n",
            "Cole a URL da notícia a ser verificada ou escreva sobre o fato:\n",
            "https://ihu.unisinos.br/categorias/170-noticias-2014/527870-bancada-ruralista-resiste-na-definicao-de-trabalho-escravo\n",
            "\n",
            ":Status: Buscando notícia fornecida...\n",
            "   -> Notícia encontrada: Bancada ruralista resiste na definição de trabalho escravo - Instituto Humanitas Unisinos - IHU\n",
            ":Status: Lendo a notícia...\n",
            "   -> OK\n",
            ":Status: Gerando palavras chave para busca...\n",
            "   -> Palavras-chave: Trabalho escravo Brasil bancada ruralista definição\n",
            "   -> Busca será feita em 5 domínios\n",
            "\n",
            ":Status: Lendo informação: https://www.camara.leg.br/noticias/456078-COMISSAO-APROVA-PROJETO-QUE-MUDA-DEFINICAO-DE-TRABALHO-ESCRAVO-NO-CODIGO-PENAL\n",
            "   -> Notícia encontrada: \n",
            "      Comissão aprova projeto que muda definição de trabalho escravo no Código Penal - Notícias - Portal da Câmara dos Deputados\n",
            "  \n",
            "   -> OK para ' \n",
            "      Comissão aprova projeto que muda definição de trabalho escravo no Código Penal - Notícias - Portal da Câmara dos Deputados\n",
            "   '\n",
            ":Status: Lendo informação: https://www.camara.leg.br/noticias/399101-cpi-do-trabalho-escravo-se-encerra-sem-acordo-com-bancada-ruralista/\n",
            "   -> Notícia encontrada: \n",
            "      CPI do Trabalho Escravo se encerra sem acordo com bancada ruralista - Notícias - Portal da Câmara dos Deputados\n",
            "  \n",
            "   -> OK para ' \n",
            "      CPI do Trabalho Escravo se encerra sem acordo com bancada ruralista - Notícias - Portal da Câmara dos Deputados\n",
            "   '\n",
            ":Status: Lendo informação: https://exame.com/brasil/ruralistas-comemoram-regra-que-dificulta-comprovar-a-escravidao/\n",
            "   -> Notícia encontrada: Ruralistas comemoram regra que dificulta comprovar a escravidão | Exame\n",
            "   -> OK para ' Ruralistas comemoram regra que dificulta comprovar a escravidão | Exame '\n",
            ":Status: Lendo informação: https://www.cartacapital.com.br/sociedade/comissao-abranda-definicao-de-trabalho-escravo-1589/\n",
            "   -> Notícia encontrada: Salvo conduto para o trabalho escravo – CartaCapital\n",
            "   -> OK para ' Salvo conduto para o trabalho escravo – CartaCapital '\n",
            ":Status: Lendo informação: https://www.poder360.com.br/governo/bancada-ruralista-nega-influencia-contra-lista-suja-do-trabalho-escravo/\n",
            "   -> Notícia encontrada: \n",
            "\t\t\tBancada ruralista nega influência contra 'lista suja' do trabalho escravo\t\t\n",
            "   -> ERRO: NOK para ' \n",
            "\t\t\tBancada ruralista nega influência contra 'lista suja' do trabalho escravo\t\t '\n",
            "\n",
            ":Status: Comparando fatos\n"
          ]
        },
        {
          "output_type": "execute_result",
          "data": {
            "text/plain": [
              "<IPython.core.display.Markdown object>"
            ],
            "text/markdown": "> **Sim**, os fatos apresentados no artigo do Instituto Humanitas Unisinos são verdadeiros.\n> \n> Os demais textos fornecidos corroboram os seguintes aspectos:\n> \n> * **Resistência da bancada ruralista:** Todos os textos mencionam a resistência da bancada ruralista em alterar a definição de trabalho escravo, objetivando evitar a desapropriação de imóveis rurais por meio da Proposta de Emenda à Constituição do Trabalho Escravo (PEC do Trabalho Escravo).\n> * **Mudança na definição de trabalho escravo:** O texto do Portal da Câmara dos Deputados e o de CartaCapital destacam a aprovação de um projeto de lei pela Comissão de Agricultura que altera a definição de trabalho escravo no Código Penal, excluindo os termos \"jornada exaustiva\" e \"condições degradantes de trabalho\".\n> * **Dificuldade na comprovação:** O texto do Exame cita uma portaria que modifica a norma da \"lista suja do trabalho escravo\", tornando mais rigorosas as exigências para comprovar a prática do crime.\n> * **Preocupações:** As entidades mencionadas no texto de CartaCapital expressam preocupações com as mudanças propostas, pois acreditam que elas dificultarão a caracterização de trabalho escravo em casos de terceirização.\n> \n> Portanto, os fatos apresentados no artigo do IHU são consistentes com os demais textos fornecidos e apontam para uma tendência de flexibilização da definição de trabalho escravo, impulsionada pela bancada ruralista."
          },
          "metadata": {},
          "execution_count": 16
        }
      ]
    },
    {
      "cell_type": "code",
      "source": [],
      "metadata": {
        "id": "MBj54A-alPwc"
      },
      "execution_count": null,
      "outputs": []
    }
  ]
}